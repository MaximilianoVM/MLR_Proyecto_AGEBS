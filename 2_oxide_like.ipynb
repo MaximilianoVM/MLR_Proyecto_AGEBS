{
 "cells": [
  {
   "cell_type": "markdown",
   "metadata": {},
   "source": [
    "Vamos a aplicar un análisis similar al ejercicio del Oxide usando los datos del censo 2000 y enfocándonos en las variables relacionadas con los salarios mínimos, es importante adaptar el marco metodológico al contexto de los datos disponibles. El objetivo será identificar qué variables influyen más en los salarios mínimos."
   ]
  },
  {
   "cell_type": "markdown",
   "metadata": {},
   "source": [
    "1. Identificación de Variables\n",
    "\n",
    "<b>Variables dependientes (salarios mínimos):</b>\n",
    "* P_1SM (Proporción de personas con 1 salario mínimo)\n",
    "* P1_2SM (Proporción de personas con 1-2 salarios mínimos)\n",
    "* P2_5SM (Proporción de personas con 2-5 salarios mínimos)\n",
    "* P6_10SM (Proporción de personas con 6-10 salarios mínimos)\n",
    "* P10_SM (Proporción de personas con más de 10 salarios mínimos)\n",
    "\n",
    "\n",
    "<b>Variables independientes (potenciales influencias):</b>\n",
    "* P_TOTAL (Población total)\n",
    "* POB0_4 (Población de 0 a 4 años)\n",
    "* POB18_ (Población mayor de 18 años)\n",
    "* PNACOENT (Población nacida en otra entidad)\n",
    "* GRADOESCO (Grado promedio de escolaridad)\n",
    "* PCASADA12_ (Proporción de personas casadas mayores de 12 años)\n",
    "* T_VIVHAB (Total de viviendas habitadas)\n",
    "* VIVPARHAB (Viviendas particulares habitadas)\n",
    "* PRO_OCVP (Promedio de ocupantes por vivienda particular habitada)\n",
    "* PRO_OVP (Promedio de ocupantes por vivienda)\n",
    "* VP_TV (Viviendas particulares habitadas con TV)\n",
    "* TOTHOG (Total de hogares)"
   ]
  },
  {
   "cell_type": "markdown",
   "metadata": {},
   "source": []
  },
  {
   "cell_type": "code",
   "execution_count": null,
   "metadata": {},
   "outputs": [],
   "source": []
  }
 ],
 "metadata": {
  "language_info": {
   "name": "python"
  }
 },
 "nbformat": 4,
 "nbformat_minor": 2
}
