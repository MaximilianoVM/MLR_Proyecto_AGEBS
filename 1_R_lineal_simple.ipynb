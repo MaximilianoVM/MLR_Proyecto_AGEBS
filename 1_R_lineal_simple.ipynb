{
 "cells": [
  {
   "cell_type": "code",
   "execution_count": 17,
   "metadata": {
    "vscode": {
     "languageId": "r"
    }
   },
   "outputs": [
    {
     "data": {
      "text/html": [
       "<table class=\"dataframe\">\n",
       "<caption>A data.frame: 10 × 17</caption>\n",
       "<thead>\n",
       "\t<tr><th></th><th scope=col>P_TOTAL</th><th scope=col>POB0_4</th><th scope=col>POB18_</th><th scope=col>PNACOENT</th><th scope=col>GRADOESCO</th><th scope=col>PCASADA12_</th><th scope=col>P_1SM</th><th scope=col>P1_2SM</th><th scope=col>P2_5SM</th><th scope=col>P6_10SM</th><th scope=col>P10_SM</th><th scope=col>T_VIVHAB</th><th scope=col>VIVPARHAB</th><th scope=col>PRO_OCVP</th><th scope=col>PRO_OVP</th><th scope=col>VP_TV</th><th scope=col>TOTHOG</th></tr>\n",
       "\t<tr><th></th><th scope=col>&lt;dbl&gt;</th><th scope=col>&lt;dbl&gt;</th><th scope=col>&lt;dbl&gt;</th><th scope=col>&lt;dbl&gt;</th><th scope=col>&lt;dbl&gt;</th><th scope=col>&lt;dbl&gt;</th><th scope=col>&lt;dbl&gt;</th><th scope=col>&lt;dbl&gt;</th><th scope=col>&lt;dbl&gt;</th><th scope=col>&lt;dbl&gt;</th><th scope=col>&lt;dbl&gt;</th><th scope=col>&lt;dbl&gt;</th><th scope=col>&lt;dbl&gt;</th><th scope=col>&lt;dbl&gt;</th><th scope=col>&lt;dbl&gt;</th><th scope=col>&lt;dbl&gt;</th><th scope=col>&lt;dbl&gt;</th></tr>\n",
       "</thead>\n",
       "<tbody>\n",
       "\t<tr><th scope=row>1</th><td>  79</td><td> 11</td><td> 46</td><td> 12</td><td>4</td><td> 24</td><td> 1</td><td> 10</td><td>  4</td><td>0</td><td>1</td><td> 15</td><td> 15</td><td>2.32</td><td>5.27</td><td> 13</td><td> 15</td></tr>\n",
       "\t<tr><th scope=row>2</th><td>1059</td><td>160</td><td>530</td><td>226</td><td>6</td><td>394</td><td>33</td><td>144</td><td>161</td><td>6</td><td>4</td><td>201</td><td>201</td><td>2.09</td><td>5.27</td><td>191</td><td>212</td></tr>\n",
       "\t<tr><th scope=row>3</th><td>  69</td><td>  3</td><td> 44</td><td>  5</td><td>5</td><td> 22</td><td> 6</td><td> 16</td><td>  4</td><td>0</td><td>1</td><td> 12</td><td> 12</td><td>1.86</td><td>5.75</td><td> 12</td><td> 12</td></tr>\n",
       "\t<tr><th scope=row>4</th><td> 588</td><td> 74</td><td>326</td><td> 57</td><td>5</td><td>232</td><td> 9</td><td>102</td><td> 79</td><td>3</td><td>1</td><td>116</td><td>116</td><td>1.76</td><td>5.07</td><td>113</td><td>121</td></tr>\n",
       "\t<tr><th scope=row>5</th><td> 177</td><td> 17</td><td>100</td><td> 15</td><td>5</td><td> 56</td><td> 4</td><td> 22</td><td> 15</td><td>0</td><td>1</td><td> 35</td><td> 35</td><td>1.72</td><td>5.06</td><td> 34</td><td> 35</td></tr>\n",
       "\t<tr><th scope=row>6</th><td> 264</td><td> 49</td><td>121</td><td> 15</td><td>6</td><td> 93</td><td> 8</td><td> 23</td><td> 22</td><td>2</td><td>0</td><td> 53</td><td> 53</td><td>2.37</td><td>4.98</td><td> 41</td><td> 55</td></tr>\n",
       "\t<tr><th scope=row>7</th><td> 383</td><td> 50</td><td>229</td><td> 38</td><td>7</td><td>155</td><td> 4</td><td> 28</td><td> 61</td><td>6</td><td>1</td><td> 79</td><td> 79</td><td>1.59</td><td>4.85</td><td> 75</td><td> 88</td></tr>\n",
       "\t<tr><th scope=row>8</th><td> 947</td><td>119</td><td>488</td><td>200</td><td>5</td><td>343</td><td>35</td><td> 91</td><td> 55</td><td>4</td><td>3</td><td>207</td><td>207</td><td>1.55</td><td>4.57</td><td>199</td><td>210</td></tr>\n",
       "\t<tr><th scope=row>9</th><td> 873</td><td>112</td><td>435</td><td> 67</td><td>5</td><td>352</td><td>16</td><td> 94</td><td> 45</td><td>4</td><td>0</td><td>195</td><td>195</td><td>1.62</td><td>4.48</td><td>187</td><td>195</td></tr>\n",
       "\t<tr><th scope=row>10</th><td>  11</td><td>  1</td><td>  9</td><td>  0</td><td>6</td><td>  6</td><td> 1</td><td>  2</td><td>  3</td><td>0</td><td>0</td><td>  3</td><td>  3</td><td>1.83</td><td>3.67</td><td>  3</td><td>  3</td></tr>\n",
       "</tbody>\n",
       "</table>\n"
      ],
      "text/latex": [
       "A data.frame: 10 × 17\n",
       "\\begin{tabular}{r|lllllllllllllllll}\n",
       "  & P\\_TOTAL & POB0\\_4 & POB18\\_ & PNACOENT & GRADOESCO & PCASADA12\\_ & P\\_1SM & P1\\_2SM & P2\\_5SM & P6\\_10SM & P10\\_SM & T\\_VIVHAB & VIVPARHAB & PRO\\_OCVP & PRO\\_OVP & VP\\_TV & TOTHOG\\\\\n",
       "  & <dbl> & <dbl> & <dbl> & <dbl> & <dbl> & <dbl> & <dbl> & <dbl> & <dbl> & <dbl> & <dbl> & <dbl> & <dbl> & <dbl> & <dbl> & <dbl> & <dbl>\\\\\n",
       "\\hline\n",
       "\t1 &   79 &  11 &  46 &  12 & 4 &  24 &  1 &  10 &   4 & 0 & 1 &  15 &  15 & 2.32 & 5.27 &  13 &  15\\\\\n",
       "\t2 & 1059 & 160 & 530 & 226 & 6 & 394 & 33 & 144 & 161 & 6 & 4 & 201 & 201 & 2.09 & 5.27 & 191 & 212\\\\\n",
       "\t3 &   69 &   3 &  44 &   5 & 5 &  22 &  6 &  16 &   4 & 0 & 1 &  12 &  12 & 1.86 & 5.75 &  12 &  12\\\\\n",
       "\t4 &  588 &  74 & 326 &  57 & 5 & 232 &  9 & 102 &  79 & 3 & 1 & 116 & 116 & 1.76 & 5.07 & 113 & 121\\\\\n",
       "\t5 &  177 &  17 & 100 &  15 & 5 &  56 &  4 &  22 &  15 & 0 & 1 &  35 &  35 & 1.72 & 5.06 &  34 &  35\\\\\n",
       "\t6 &  264 &  49 & 121 &  15 & 6 &  93 &  8 &  23 &  22 & 2 & 0 &  53 &  53 & 2.37 & 4.98 &  41 &  55\\\\\n",
       "\t7 &  383 &  50 & 229 &  38 & 7 & 155 &  4 &  28 &  61 & 6 & 1 &  79 &  79 & 1.59 & 4.85 &  75 &  88\\\\\n",
       "\t8 &  947 & 119 & 488 & 200 & 5 & 343 & 35 &  91 &  55 & 4 & 3 & 207 & 207 & 1.55 & 4.57 & 199 & 210\\\\\n",
       "\t9 &  873 & 112 & 435 &  67 & 5 & 352 & 16 &  94 &  45 & 4 & 0 & 195 & 195 & 1.62 & 4.48 & 187 & 195\\\\\n",
       "\t10 &   11 &   1 &   9 &   0 & 6 &   6 &  1 &   2 &   3 & 0 & 0 &   3 &   3 & 1.83 & 3.67 &   3 &   3\\\\\n",
       "\\end{tabular}\n"
      ],
      "text/markdown": [
       "\n",
       "A data.frame: 10 × 17\n",
       "\n",
       "| <!--/--> | P_TOTAL &lt;dbl&gt; | POB0_4 &lt;dbl&gt; | POB18_ &lt;dbl&gt; | PNACOENT &lt;dbl&gt; | GRADOESCO &lt;dbl&gt; | PCASADA12_ &lt;dbl&gt; | P_1SM &lt;dbl&gt; | P1_2SM &lt;dbl&gt; | P2_5SM &lt;dbl&gt; | P6_10SM &lt;dbl&gt; | P10_SM &lt;dbl&gt; | T_VIVHAB &lt;dbl&gt; | VIVPARHAB &lt;dbl&gt; | PRO_OCVP &lt;dbl&gt; | PRO_OVP &lt;dbl&gt; | VP_TV &lt;dbl&gt; | TOTHOG &lt;dbl&gt; |\n",
       "|---|---|---|---|---|---|---|---|---|---|---|---|---|---|---|---|---|---|\n",
       "| 1 |   79 |  11 |  46 |  12 | 4 |  24 |  1 |  10 |   4 | 0 | 1 |  15 |  15 | 2.32 | 5.27 |  13 |  15 |\n",
       "| 2 | 1059 | 160 | 530 | 226 | 6 | 394 | 33 | 144 | 161 | 6 | 4 | 201 | 201 | 2.09 | 5.27 | 191 | 212 |\n",
       "| 3 |   69 |   3 |  44 |   5 | 5 |  22 |  6 |  16 |   4 | 0 | 1 |  12 |  12 | 1.86 | 5.75 |  12 |  12 |\n",
       "| 4 |  588 |  74 | 326 |  57 | 5 | 232 |  9 | 102 |  79 | 3 | 1 | 116 | 116 | 1.76 | 5.07 | 113 | 121 |\n",
       "| 5 |  177 |  17 | 100 |  15 | 5 |  56 |  4 |  22 |  15 | 0 | 1 |  35 |  35 | 1.72 | 5.06 |  34 |  35 |\n",
       "| 6 |  264 |  49 | 121 |  15 | 6 |  93 |  8 |  23 |  22 | 2 | 0 |  53 |  53 | 2.37 | 4.98 |  41 |  55 |\n",
       "| 7 |  383 |  50 | 229 |  38 | 7 | 155 |  4 |  28 |  61 | 6 | 1 |  79 |  79 | 1.59 | 4.85 |  75 |  88 |\n",
       "| 8 |  947 | 119 | 488 | 200 | 5 | 343 | 35 |  91 |  55 | 4 | 3 | 207 | 207 | 1.55 | 4.57 | 199 | 210 |\n",
       "| 9 |  873 | 112 | 435 |  67 | 5 | 352 | 16 |  94 |  45 | 4 | 0 | 195 | 195 | 1.62 | 4.48 | 187 | 195 |\n",
       "| 10 |   11 |   1 |   9 |   0 | 6 |   6 |  1 |   2 |   3 | 0 | 0 |   3 |   3 | 1.83 | 3.67 |   3 |   3 |\n",
       "\n"
      ],
      "text/plain": [
       "   P_TOTAL POB0_4 POB18_ PNACOENT GRADOESCO PCASADA12_ P_1SM P1_2SM P2_5SM\n",
       "1    79     11     46     12      4          24         1     10      4   \n",
       "2  1059    160    530    226      6         394        33    144    161   \n",
       "3    69      3     44      5      5          22         6     16      4   \n",
       "4   588     74    326     57      5         232         9    102     79   \n",
       "5   177     17    100     15      5          56         4     22     15   \n",
       "6   264     49    121     15      6          93         8     23     22   \n",
       "7   383     50    229     38      7         155         4     28     61   \n",
       "8   947    119    488    200      5         343        35     91     55   \n",
       "9   873    112    435     67      5         352        16     94     45   \n",
       "10   11      1      9      0      6           6         1      2      3   \n",
       "   P6_10SM P10_SM T_VIVHAB VIVPARHAB PRO_OCVP PRO_OVP VP_TV TOTHOG\n",
       "1  0       1       15       15       2.32     5.27     13    15   \n",
       "2  6       4      201      201       2.09     5.27    191   212   \n",
       "3  0       1       12       12       1.86     5.75     12    12   \n",
       "4  3       1      116      116       1.76     5.07    113   121   \n",
       "5  0       1       35       35       1.72     5.06     34    35   \n",
       "6  2       0       53       53       2.37     4.98     41    55   \n",
       "7  6       1       79       79       1.59     4.85     75    88   \n",
       "8  4       3      207      207       1.55     4.57    199   210   \n",
       "9  4       0      195      195       1.62     4.48    187   195   \n",
       "10 0       0        3        3       1.83     3.67      3     3   "
      ]
     },
     "metadata": {},
     "output_type": "display_data"
    }
   ],
   "source": [
    "data2k <- read.csv(\"DATA/NUM_ONLY_censo-2000_Nacional_cleaned.csv\")\n",
    "\n",
    "head(data2k, 10)"
   ]
  },
  {
   "cell_type": "code",
   "execution_count": 18,
   "metadata": {
    "vscode": {
     "languageId": "r"
    }
   },
   "outputs": [],
   "source": [
    "#cargar librerías\n",
    "library(tidyverse)\n",
    "library(sf)\n",
    "library(ggplot2)"
   ]
  },
  {
   "cell_type": "markdown",
   "metadata": {},
   "source": [
    "### Definimos un promedio de salarios minimos en cada fila (localidad)\n",
    "\n",
    "la pregunta será: \n",
    "* que tanto peso tiene el resto de variables en el promedio de salarios minimos?\n",
    "* será mejor un modelo con todas las variables? (ANOVA) (?)"
   ]
  },
  {
   "cell_type": "code",
   "execution_count": 19,
   "metadata": {
    "vscode": {
     "languageId": "r"
    }
   },
   "outputs": [
    {
     "data": {
      "text/html": [
       "<table class=\"dataframe\">\n",
       "<caption>A data.frame: 10 × 13</caption>\n",
       "<thead>\n",
       "\t<tr><th></th><th scope=col>P_TOTAL</th><th scope=col>POB0_4</th><th scope=col>POB18_</th><th scope=col>PNACOENT</th><th scope=col>GRADOESCO</th><th scope=col>PCASADA12_</th><th scope=col>T_VIVHAB</th><th scope=col>VIVPARHAB</th><th scope=col>PRO_OCVP</th><th scope=col>PRO_OVP</th><th scope=col>VP_TV</th><th scope=col>TOTHOG</th><th scope=col>PROM_SM</th></tr>\n",
       "\t<tr><th></th><th scope=col>&lt;dbl&gt;</th><th scope=col>&lt;dbl&gt;</th><th scope=col>&lt;dbl&gt;</th><th scope=col>&lt;dbl&gt;</th><th scope=col>&lt;dbl&gt;</th><th scope=col>&lt;dbl&gt;</th><th scope=col>&lt;dbl&gt;</th><th scope=col>&lt;dbl&gt;</th><th scope=col>&lt;dbl&gt;</th><th scope=col>&lt;dbl&gt;</th><th scope=col>&lt;dbl&gt;</th><th scope=col>&lt;dbl&gt;</th><th scope=col>&lt;dbl&gt;</th></tr>\n",
       "</thead>\n",
       "<tbody>\n",
       "\t<tr><th scope=row>1</th><td>  79</td><td> 11</td><td> 46</td><td> 12</td><td>4</td><td> 24</td><td> 15</td><td> 15</td><td>2.32</td><td>5.27</td><td> 13</td><td> 15</td><td> 3.2</td></tr>\n",
       "\t<tr><th scope=row>2</th><td>1059</td><td>160</td><td>530</td><td>226</td><td>6</td><td>394</td><td>201</td><td>201</td><td>2.09</td><td>5.27</td><td>191</td><td>212</td><td>69.6</td></tr>\n",
       "\t<tr><th scope=row>3</th><td>  69</td><td>  3</td><td> 44</td><td>  5</td><td>5</td><td> 22</td><td> 12</td><td> 12</td><td>1.86</td><td>5.75</td><td> 12</td><td> 12</td><td> 5.4</td></tr>\n",
       "\t<tr><th scope=row>4</th><td> 588</td><td> 74</td><td>326</td><td> 57</td><td>5</td><td>232</td><td>116</td><td>116</td><td>1.76</td><td>5.07</td><td>113</td><td>121</td><td>38.8</td></tr>\n",
       "\t<tr><th scope=row>5</th><td> 177</td><td> 17</td><td>100</td><td> 15</td><td>5</td><td> 56</td><td> 35</td><td> 35</td><td>1.72</td><td>5.06</td><td> 34</td><td> 35</td><td> 8.4</td></tr>\n",
       "\t<tr><th scope=row>6</th><td> 264</td><td> 49</td><td>121</td><td> 15</td><td>6</td><td> 93</td><td> 53</td><td> 53</td><td>2.37</td><td>4.98</td><td> 41</td><td> 55</td><td>11.0</td></tr>\n",
       "\t<tr><th scope=row>7</th><td> 383</td><td> 50</td><td>229</td><td> 38</td><td>7</td><td>155</td><td> 79</td><td> 79</td><td>1.59</td><td>4.85</td><td> 75</td><td> 88</td><td>20.0</td></tr>\n",
       "\t<tr><th scope=row>8</th><td> 947</td><td>119</td><td>488</td><td>200</td><td>5</td><td>343</td><td>207</td><td>207</td><td>1.55</td><td>4.57</td><td>199</td><td>210</td><td>37.6</td></tr>\n",
       "\t<tr><th scope=row>9</th><td> 873</td><td>112</td><td>435</td><td> 67</td><td>5</td><td>352</td><td>195</td><td>195</td><td>1.62</td><td>4.48</td><td>187</td><td>195</td><td>31.8</td></tr>\n",
       "\t<tr><th scope=row>10</th><td>  11</td><td>  1</td><td>  9</td><td>  0</td><td>6</td><td>  6</td><td>  3</td><td>  3</td><td>1.83</td><td>3.67</td><td>  3</td><td>  3</td><td> 1.2</td></tr>\n",
       "</tbody>\n",
       "</table>\n"
      ],
      "text/latex": [
       "A data.frame: 10 × 13\n",
       "\\begin{tabular}{r|lllllllllllll}\n",
       "  & P\\_TOTAL & POB0\\_4 & POB18\\_ & PNACOENT & GRADOESCO & PCASADA12\\_ & T\\_VIVHAB & VIVPARHAB & PRO\\_OCVP & PRO\\_OVP & VP\\_TV & TOTHOG & PROM\\_SM\\\\\n",
       "  & <dbl> & <dbl> & <dbl> & <dbl> & <dbl> & <dbl> & <dbl> & <dbl> & <dbl> & <dbl> & <dbl> & <dbl> & <dbl>\\\\\n",
       "\\hline\n",
       "\t1 &   79 &  11 &  46 &  12 & 4 &  24 &  15 &  15 & 2.32 & 5.27 &  13 &  15 &  3.2\\\\\n",
       "\t2 & 1059 & 160 & 530 & 226 & 6 & 394 & 201 & 201 & 2.09 & 5.27 & 191 & 212 & 69.6\\\\\n",
       "\t3 &   69 &   3 &  44 &   5 & 5 &  22 &  12 &  12 & 1.86 & 5.75 &  12 &  12 &  5.4\\\\\n",
       "\t4 &  588 &  74 & 326 &  57 & 5 & 232 & 116 & 116 & 1.76 & 5.07 & 113 & 121 & 38.8\\\\\n",
       "\t5 &  177 &  17 & 100 &  15 & 5 &  56 &  35 &  35 & 1.72 & 5.06 &  34 &  35 &  8.4\\\\\n",
       "\t6 &  264 &  49 & 121 &  15 & 6 &  93 &  53 &  53 & 2.37 & 4.98 &  41 &  55 & 11.0\\\\\n",
       "\t7 &  383 &  50 & 229 &  38 & 7 & 155 &  79 &  79 & 1.59 & 4.85 &  75 &  88 & 20.0\\\\\n",
       "\t8 &  947 & 119 & 488 & 200 & 5 & 343 & 207 & 207 & 1.55 & 4.57 & 199 & 210 & 37.6\\\\\n",
       "\t9 &  873 & 112 & 435 &  67 & 5 & 352 & 195 & 195 & 1.62 & 4.48 & 187 & 195 & 31.8\\\\\n",
       "\t10 &   11 &   1 &   9 &   0 & 6 &   6 &   3 &   3 & 1.83 & 3.67 &   3 &   3 &  1.2\\\\\n",
       "\\end{tabular}\n"
      ],
      "text/markdown": [
       "\n",
       "A data.frame: 10 × 13\n",
       "\n",
       "| <!--/--> | P_TOTAL &lt;dbl&gt; | POB0_4 &lt;dbl&gt; | POB18_ &lt;dbl&gt; | PNACOENT &lt;dbl&gt; | GRADOESCO &lt;dbl&gt; | PCASADA12_ &lt;dbl&gt; | T_VIVHAB &lt;dbl&gt; | VIVPARHAB &lt;dbl&gt; | PRO_OCVP &lt;dbl&gt; | PRO_OVP &lt;dbl&gt; | VP_TV &lt;dbl&gt; | TOTHOG &lt;dbl&gt; | PROM_SM &lt;dbl&gt; |\n",
       "|---|---|---|---|---|---|---|---|---|---|---|---|---|---|\n",
       "| 1 |   79 |  11 |  46 |  12 | 4 |  24 |  15 |  15 | 2.32 | 5.27 |  13 |  15 |  3.2 |\n",
       "| 2 | 1059 | 160 | 530 | 226 | 6 | 394 | 201 | 201 | 2.09 | 5.27 | 191 | 212 | 69.6 |\n",
       "| 3 |   69 |   3 |  44 |   5 | 5 |  22 |  12 |  12 | 1.86 | 5.75 |  12 |  12 |  5.4 |\n",
       "| 4 |  588 |  74 | 326 |  57 | 5 | 232 | 116 | 116 | 1.76 | 5.07 | 113 | 121 | 38.8 |\n",
       "| 5 |  177 |  17 | 100 |  15 | 5 |  56 |  35 |  35 | 1.72 | 5.06 |  34 |  35 |  8.4 |\n",
       "| 6 |  264 |  49 | 121 |  15 | 6 |  93 |  53 |  53 | 2.37 | 4.98 |  41 |  55 | 11.0 |\n",
       "| 7 |  383 |  50 | 229 |  38 | 7 | 155 |  79 |  79 | 1.59 | 4.85 |  75 |  88 | 20.0 |\n",
       "| 8 |  947 | 119 | 488 | 200 | 5 | 343 | 207 | 207 | 1.55 | 4.57 | 199 | 210 | 37.6 |\n",
       "| 9 |  873 | 112 | 435 |  67 | 5 | 352 | 195 | 195 | 1.62 | 4.48 | 187 | 195 | 31.8 |\n",
       "| 10 |   11 |   1 |   9 |   0 | 6 |   6 |   3 |   3 | 1.83 | 3.67 |   3 |   3 |  1.2 |\n",
       "\n"
      ],
      "text/plain": [
       "   P_TOTAL POB0_4 POB18_ PNACOENT GRADOESCO PCASADA12_ T_VIVHAB VIVPARHAB\n",
       "1    79     11     46     12      4          24         15       15      \n",
       "2  1059    160    530    226      6         394        201      201      \n",
       "3    69      3     44      5      5          22         12       12      \n",
       "4   588     74    326     57      5         232        116      116      \n",
       "5   177     17    100     15      5          56         35       35      \n",
       "6   264     49    121     15      6          93         53       53      \n",
       "7   383     50    229     38      7         155         79       79      \n",
       "8   947    119    488    200      5         343        207      207      \n",
       "9   873    112    435     67      5         352        195      195      \n",
       "10   11      1      9      0      6           6          3        3      \n",
       "   PRO_OCVP PRO_OVP VP_TV TOTHOG PROM_SM\n",
       "1  2.32     5.27     13    15     3.2   \n",
       "2  2.09     5.27    191   212    69.6   \n",
       "3  1.86     5.75     12    12     5.4   \n",
       "4  1.76     5.07    113   121    38.8   \n",
       "5  1.72     5.06     34    35     8.4   \n",
       "6  2.37     4.98     41    55    11.0   \n",
       "7  1.59     4.85     75    88    20.0   \n",
       "8  1.55     4.57    199   210    37.6   \n",
       "9  1.62     4.48    187   195    31.8   \n",
       "10 1.83     3.67      3     3     1.2   "
      ]
     },
     "metadata": {},
     "output_type": "display_data"
    }
   ],
   "source": [
    "#reemplazamos columnas 'P_1SM' 'P1_2SM' 'P2_5SM' 'P6_10SM' 'P10_SM' por un promedio de estas\n",
    "#test: primera fila: 1\t10\t4\t0\t1 \n",
    "#promedio = (1 + 10 + 4 + 0 + 1) / 5 = 3.2\n",
    "\n",
    "data2k$PROM_SM <- (data2k$P_1SM + data2k$P1_2SM + data2k$P2_5SM + data2k$P6_10SM + data2k$P10_SM) / 5\n",
    "\n",
    "#quitamos cada columna de salario minimo\n",
    "data2k <- data2k[, !(names(data2k) %in% c('P_1SM', 'P1_2SM', 'P2_5SM', 'P6_10SM', 'P10_SM'))]\n",
    "\n",
    "head(data2k, 10)"
   ]
  },
  {
   "cell_type": "code",
   "execution_count": 20,
   "metadata": {
    "vscode": {
     "languageId": "r"
    }
   },
   "outputs": [
    {
     "data": {
      "text/plain": [
       "    P_TOTAL           POB0_4             POB18_            PNACOENT       \n",
       " Min.   :     3   Min.   :    0.00   Min.   :     0.0   Min.   :    0.00  \n",
       " 1st Qu.:    23   1st Qu.:    3.00   1st Qu.:    12.0   1st Qu.:    0.00  \n",
       " Median :    79   Median :   11.00   Median :    39.0   Median :    1.00  \n",
       " Mean   :   451   Mean   :   57.51   Mean   :   254.9   Mean   :   75.73  \n",
       " 3rd Qu.:   255   3rd Qu.:   37.00   3rd Qu.:   127.0   3rd Qu.:   10.00  \n",
       " Max.   :502964   Max.   :52549.00   Max.   :315255.0   Max.   :98638.00  \n",
       "                  NA's   :472        NA's   :472        NA's   :472       \n",
       "   GRADOESCO        PCASADA12_          T_VIVHAB           VIVPARHAB       \n",
       " Min.   : 0.000   Min.   :     0.0   Min.   :     1.00   Min.   :     0.0  \n",
       " 1st Qu.: 3.000   1st Qu.:     8.0   1st Qu.:     5.00   1st Qu.:     5.0  \n",
       " Median : 4.000   Median :    29.0   Median :    16.00   Median :    16.0  \n",
       " Mean   : 4.303   Mean   :   181.8   Mean   :    98.69   Mean   :   100.3  \n",
       " 3rd Qu.: 5.000   3rd Qu.:    95.0   3rd Qu.:    50.00   3rd Qu.:    50.0  \n",
       " Max.   :17.000   Max.   :206974.0   Max.   :120158.00   Max.   :119286.0  \n",
       " NA's   :472      NA's   :472                            NA's   :472       \n",
       "    PRO_OCVP         PRO_OVP           VP_TV               TOTHOG        \n",
       " Min.   : 0.000   Min.   : 0.000   Min.   :     0.00   Min.   :     1.0  \n",
       " 1st Qu.: 1.790   1st Qu.: 4.020   1st Qu.:     1.00   1st Qu.:     5.0  \n",
       " Median : 2.620   Median : 4.810   Median :     4.00   Median :    16.0  \n",
       " Mean   : 2.777   Mean   : 4.834   Mean   :    75.16   Mean   :   103.1  \n",
       " 3rd Qu.: 3.580   3rd Qu.: 5.650   3rd Qu.:    19.00   3rd Qu.:    51.0  \n",
       " Max.   :10.330   Max.   :29.500   Max.   :116206.00   Max.   :122242.0  \n",
       " NA's   :472      NA's   :472      NA's   :472         NA's   :472       \n",
       "    PROM_SM        \n",
       " Min.   :    0.00  \n",
       " 1st Qu.:    0.80  \n",
       " Median :    2.40  \n",
       " Mean   :   25.32  \n",
       " 3rd Qu.:    9.00  \n",
       " Max.   :36119.40  \n",
       " NA's   :472       "
      ]
     },
     "metadata": {},
     "output_type": "display_data"
    }
   ],
   "source": [
    "summary(data2k)"
   ]
  },
  {
   "cell_type": "code",
   "execution_count": 21,
   "metadata": {
    "vscode": {
     "languageId": "r"
    }
   },
   "outputs": [
    {
     "name": "stdout",
     "output_type": "stream",
     "text": [
      "Rows: 8,669\n",
      "Columns: 13\n",
      "$ P_TOTAL    \u001b[3m\u001b[90m<dbl>\u001b[39m\u001b[23m 79, 1059, 69, 588, 177, 264, 383, 947, 873, 11, 42, 200, 28…\n",
      "$ POB0_4     \u001b[3m\u001b[90m<dbl>\u001b[39m\u001b[23m 11, 160, 3, 74, 17, 49, 50, 119, 112, 1, 7, 35, 33, 7, 5, 7…\n",
      "$ POB18_     \u001b[3m\u001b[90m<dbl>\u001b[39m\u001b[23m 46, 530, 44, 326, 100, 121, 229, 488, 435, 9, 27, 104, 155,…\n",
      "$ PNACOENT   \u001b[3m\u001b[90m<dbl>\u001b[39m\u001b[23m 12, 226, 5, 57, 15, 15, 38, 200, 67, 0, 2, 13, 38, 6, 10, 1…\n",
      "$ GRADOESCO  \u001b[3m\u001b[90m<dbl>\u001b[39m\u001b[23m 4, 6, 5, 5, 5, 6, 7, 5, 5, 6, 5, 5, 5, 7, 3, 5, 7, 8, 4, 5,…\n",
      "$ PCASADA12_ \u001b[3m\u001b[90m<dbl>\u001b[39m\u001b[23m 24, 394, 22, 232, 56, 93, 155, 343, 352, 6, 20, 76, 106, 16…\n",
      "$ T_VIVHAB   \u001b[3m\u001b[90m<dbl>\u001b[39m\u001b[23m 15, 201, 12, 116, 35, 53, 79, 207, 195, 3, 10, 36, 58, 7, 6…\n",
      "$ VIVPARHAB  \u001b[3m\u001b[90m<dbl>\u001b[39m\u001b[23m 15, 201, 12, 116, 35, 53, 79, 207, 195, 3, 10, 36, 58, 7, 6…\n",
      "$ PRO_OCVP   \u001b[3m\u001b[90m<dbl>\u001b[39m\u001b[23m 2.32, 2.09, 1.86, 1.76, 1.72, 2.37, 1.59, 1.55, 1.62, 1.83,…\n",
      "$ PRO_OVP    \u001b[3m\u001b[90m<dbl>\u001b[39m\u001b[23m 5.27, 5.27, 5.75, 5.07, 5.06, 4.98, 4.85, 4.57, 4.48, 3.67,…\n",
      "$ VP_TV      \u001b[3m\u001b[90m<dbl>\u001b[39m\u001b[23m 13, 191, 12, 113, 34, 41, 75, 199, 187, 3, 9, 34, 53, 7, 6,…\n",
      "$ TOTHOG     \u001b[3m\u001b[90m<dbl>\u001b[39m\u001b[23m 15, 212, 12, 121, 35, 55, 88, 210, 195, 3, 10, 38, 58, 7, 6…\n",
      "$ PROM_SM    \u001b[3m\u001b[90m<dbl>\u001b[39m\u001b[23m 3.2, 69.6, 5.4, 38.8, 8.4, 11.0, 20.0, 37.6, 31.8, 1.2, 2.6…\n"
     ]
    }
   ],
   "source": [
    "glimpse(data2k)"
   ]
  },
  {
   "cell_type": "code",
   "execution_count": 22,
   "metadata": {
    "vscode": {
     "languageId": "r"
    }
   },
   "outputs": [],
   "source": [
    "data2k <- na.omit(data2k)"
   ]
  },
  {
   "cell_type": "code",
   "execution_count": 24,
   "metadata": {
    "vscode": {
     "languageId": "r"
    }
   },
   "outputs": [
    {
     "data": {
      "text/plain": [
       "\n",
       "Call:\n",
       "lm(formula = PROM_SM ~ ., data = data2k)\n",
       "\n",
       "Residuals:\n",
       "    Min      1Q  Median      3Q     Max \n",
       "-267.31   -0.73    1.21    2.62  423.36 \n",
       "\n",
       "Coefficients:\n",
       "              Estimate Std. Error t value Pr(>|t|)    \n",
       "(Intercept)  0.4266207  0.7558336   0.564 0.572472    \n",
       "P_TOTAL     -0.0945230  0.0026175 -36.112  < 2e-16 ***\n",
       "POB0_4       0.4535314  0.0075789  59.841  < 2e-16 ***\n",
       "POB18_       0.1786059  0.0042411  42.113  < 2e-16 ***\n",
       "PNACOENT     0.0020041  0.0006059   3.308 0.000945 ***\n",
       "GRADOESCO   -0.1361300  0.0794439  -1.714 0.086652 .  \n",
       "PCASADA12_  -0.1438141  0.0045822 -31.386  < 2e-16 ***\n",
       "T_VIVHAB     0.5195937  0.0188506  27.564  < 2e-16 ***\n",
       "VIVPARHAB   -1.0732385  0.0297907 -36.026  < 2e-16 ***\n",
       "PRO_OCVP     0.3488696  0.1615722   2.159 0.030862 *  \n",
       "PRO_OVP     -0.5714624  0.1390296  -4.110 3.99e-05 ***\n",
       "VP_TV        0.1351991  0.0039377  34.335  < 2e-16 ***\n",
       "TOTHOG       0.6789565  0.0192538  35.263  < 2e-16 ***\n",
       "---\n",
       "Signif. codes:  0 ‘***’ 0.001 ‘**’ 0.01 ‘*’ 0.05 ‘.’ 0.1 ‘ ’ 1\n",
       "\n",
       "Residual standard error: 12.67 on 8184 degrees of freedom\n",
       "Multiple R-squared:  0.9992,\tAdjusted R-squared:  0.9992 \n",
       "F-statistic: 8.287e+05 on 12 and 8184 DF,  p-value: < 2.2e-16\n"
      ]
     },
     "metadata": {},
     "output_type": "display_data"
    },
    {
     "data": {
      "image/png": "[encoded data removed]",
      "text/plain": [
       "plot without title"
      ]
     },
     "metadata": {
      "image/png": {
       "height": 420,
       "width": 420
      }
     },
     "output_type": "display_data"
    }
   ],
   "source": [
    "#modelo de regresion lineal\n",
    "model <- lm(PROM_SM ~ ., data = data2k)\n",
    "\n",
    "summary(model)\n",
    "\n",
    "#graficamos los residuales\n",
    "plot(model$residuals)"
   ]
  },
  {
   "cell_type": "markdown",
   "metadata": {},
   "source": []
  }
 ],
 "metadata": {
  "kernelspec": {
   "display_name": "R",
   "language": "R",
   "name": "ir"
  },
  "language_info": {
   "codemirror_mode": "r",
   "file_extension": ".r",
   "mimetype": "text/x-r-source",
   "name": "R",
   "pygments_lexer": "r",
   "version": "4.1.2"
  }
 },
 "nbformat": 4,
 "nbformat_minor": 2
}
